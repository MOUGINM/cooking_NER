{
 "cells": [
  {
   "cell_type": "code",
   "execution_count": 4,
   "id": "2d5e732a",
   "metadata": {},
   "outputs": [],
   "source": [
    "import spacy"
   ]
  },
  {
   "cell_type": "code",
   "execution_count": 5,
   "id": "574acc74",
   "metadata": {},
   "outputs": [
    {
     "name": "stdout",
     "output_type": "stream",
     "text": [
      "Collecting en-core-web-sm==3.7.1\n",
      "  Downloading https://github.com/explosion/spacy-models/releases/download/en_core_web_sm-3.7.1/en_core_web_sm-3.7.1-py3-none-any.whl (12.8 MB)\n",
      "     ---------------------------------------- 0.0/12.8 MB ? eta -:--:--\n",
      "     ---------------------------------------- 0.0/12.8 MB ? eta -:--:--\n",
      "     ---------------------------------------- 0.0/12.8 MB ? eta -:--:--\n",
      "     --------------------------------------- 0.0/12.8 MB 281.8 kB/s eta 0:00:46\n",
      "     --------------------------------------- 0.1/12.8 MB 722.1 kB/s eta 0:00:18\n",
      "     -- ------------------------------------- 0.7/12.8 MB 3.6 MB/s eta 0:00:04\n",
      "     ------- -------------------------------- 2.4/12.8 MB 9.7 MB/s eta 0:00:02\n",
      "     ------------- -------------------------- 4.2/12.8 MB 14.1 MB/s eta 0:00:01\n",
      "     ------------------ --------------------- 5.9/12.8 MB 17.2 MB/s eta 0:00:01\n",
      "     ----------------------- ---------------- 7.6/12.8 MB 19.5 MB/s eta 0:00:01\n",
      "     ----------------------------- ---------- 9.4/12.8 MB 21.6 MB/s eta 0:00:01\n",
      "     ---------------------------------- ---- 11.2/12.8 MB 38.6 MB/s eta 0:00:01\n",
      "     --------------------------------------  12.8/12.8 MB 36.4 MB/s eta 0:00:01\n",
      "     --------------------------------------- 12.8/12.8 MB 34.5 MB/s eta 0:00:00\n",
      "Requirement already satisfied: spacy<3.8.0,>=3.7.2 in c:\\users\\mehdi\\anaconda3\\lib\\site-packages (from en-core-web-sm==3.7.1) (3.7.2)\n",
      "Requirement already satisfied: spacy-legacy<3.1.0,>=3.0.11 in c:\\users\\mehdi\\anaconda3\\lib\\site-packages (from spacy<3.8.0,>=3.7.2->en-core-web-sm==3.7.1) (3.0.12)\n",
      "Requirement already satisfied: spacy-loggers<2.0.0,>=1.0.0 in c:\\users\\mehdi\\anaconda3\\lib\\site-packages (from spacy<3.8.0,>=3.7.2->en-core-web-sm==3.7.1) (1.0.5)\n",
      "Requirement already satisfied: murmurhash<1.1.0,>=0.28.0 in c:\\users\\mehdi\\anaconda3\\lib\\site-packages (from spacy<3.8.0,>=3.7.2->en-core-web-sm==3.7.1) (1.0.10)\n",
      "Requirement already satisfied: cymem<2.1.0,>=2.0.2 in c:\\users\\mehdi\\anaconda3\\lib\\site-packages (from spacy<3.8.0,>=3.7.2->en-core-web-sm==3.7.1) (2.0.8)\n",
      "Requirement already satisfied: preshed<3.1.0,>=3.0.2 in c:\\users\\mehdi\\anaconda3\\lib\\site-packages (from spacy<3.8.0,>=3.7.2->en-core-web-sm==3.7.1) (3.0.9)\n",
      "Requirement already satisfied: thinc<8.3.0,>=8.1.8 in c:\\users\\mehdi\\anaconda3\\lib\\site-packages (from spacy<3.8.0,>=3.7.2->en-core-web-sm==3.7.1) (8.2.2)\n",
      "Requirement already satisfied: wasabi<1.2.0,>=0.9.1 in c:\\users\\mehdi\\anaconda3\\lib\\site-packages (from spacy<3.8.0,>=3.7.2->en-core-web-sm==3.7.1) (1.1.2)\n",
      "Requirement already satisfied: srsly<3.0.0,>=2.4.3 in c:\\users\\mehdi\\anaconda3\\lib\\site-packages (from spacy<3.8.0,>=3.7.2->en-core-web-sm==3.7.1) (2.4.8)\n",
      "Requirement already satisfied: catalogue<2.1.0,>=2.0.6 in c:\\users\\mehdi\\anaconda3\\lib\\site-packages (from spacy<3.8.0,>=3.7.2->en-core-web-sm==3.7.1) (2.0.10)\n",
      "Requirement already satisfied: weasel<0.4.0,>=0.1.0 in c:\\users\\mehdi\\anaconda3\\lib\\site-packages (from spacy<3.8.0,>=3.7.2->en-core-web-sm==3.7.1) (0.3.4)\n",
      "Requirement already satisfied: typer<0.10.0,>=0.3.0 in c:\\users\\mehdi\\anaconda3\\lib\\site-packages (from spacy<3.8.0,>=3.7.2->en-core-web-sm==3.7.1) (0.9.0)\n",
      "Requirement already satisfied: smart-open<7.0.0,>=5.2.1 in c:\\users\\mehdi\\anaconda3\\lib\\site-packages (from spacy<3.8.0,>=3.7.2->en-core-web-sm==3.7.1) (5.2.1)\n",
      "Requirement already satisfied: tqdm<5.0.0,>=4.38.0 in c:\\users\\mehdi\\anaconda3\\lib\\site-packages (from spacy<3.8.0,>=3.7.2->en-core-web-sm==3.7.1) (4.65.0)\n",
      "Requirement already satisfied: requests<3.0.0,>=2.13.0 in c:\\users\\mehdi\\anaconda3\\lib\\site-packages (from spacy<3.8.0,>=3.7.2->en-core-web-sm==3.7.1) (2.31.0)\n",
      "Requirement already satisfied: pydantic!=1.8,!=1.8.1,<3.0.0,>=1.7.4 in c:\\users\\mehdi\\anaconda3\\lib\\site-packages (from spacy<3.8.0,>=3.7.2->en-core-web-sm==3.7.1) (1.10.8)\n",
      "Requirement already satisfied: jinja2 in c:\\users\\mehdi\\anaconda3\\lib\\site-packages (from spacy<3.8.0,>=3.7.2->en-core-web-sm==3.7.1) (3.1.2)\n",
      "Requirement already satisfied: setuptools in c:\\users\\mehdi\\anaconda3\\lib\\site-packages (from spacy<3.8.0,>=3.7.2->en-core-web-sm==3.7.1) (68.0.0)\n",
      "Requirement already satisfied: packaging>=20.0 in c:\\users\\mehdi\\anaconda3\\lib\\site-packages (from spacy<3.8.0,>=3.7.2->en-core-web-sm==3.7.1) (23.1)\n",
      "Requirement already satisfied: langcodes<4.0.0,>=3.2.0 in c:\\users\\mehdi\\anaconda3\\lib\\site-packages (from spacy<3.8.0,>=3.7.2->en-core-web-sm==3.7.1) (3.3.0)\n",
      "Requirement already satisfied: numpy>=1.19.0 in c:\\users\\mehdi\\anaconda3\\lib\\site-packages (from spacy<3.8.0,>=3.7.2->en-core-web-sm==3.7.1) (1.24.3)\n",
      "Requirement already satisfied: typing-extensions>=4.2.0 in c:\\users\\mehdi\\anaconda3\\lib\\site-packages (from pydantic!=1.8,!=1.8.1,<3.0.0,>=1.7.4->spacy<3.8.0,>=3.7.2->en-core-web-sm==3.7.1) (4.7.1)\n",
      "Requirement already satisfied: charset-normalizer<4,>=2 in c:\\users\\mehdi\\anaconda3\\lib\\site-packages (from requests<3.0.0,>=2.13.0->spacy<3.8.0,>=3.7.2->en-core-web-sm==3.7.1) (2.0.4)\n",
      "Requirement already satisfied: idna<4,>=2.5 in c:\\users\\mehdi\\anaconda3\\lib\\site-packages (from requests<3.0.0,>=2.13.0->spacy<3.8.0,>=3.7.2->en-core-web-sm==3.7.1) (3.4)\n",
      "Requirement already satisfied: urllib3<3,>=1.21.1 in c:\\users\\mehdi\\anaconda3\\lib\\site-packages (from requests<3.0.0,>=2.13.0->spacy<3.8.0,>=3.7.2->en-core-web-sm==3.7.1) (1.26.16)\n",
      "Requirement already satisfied: certifi>=2017.4.17 in c:\\users\\mehdi\\anaconda3\\lib\\site-packages (from requests<3.0.0,>=2.13.0->spacy<3.8.0,>=3.7.2->en-core-web-sm==3.7.1) (2023.7.22)\n",
      "Requirement already satisfied: blis<0.8.0,>=0.7.8 in c:\\users\\mehdi\\anaconda3\\lib\\site-packages (from thinc<8.3.0,>=8.1.8->spacy<3.8.0,>=3.7.2->en-core-web-sm==3.7.1) (0.7.11)\n",
      "Requirement already satisfied: confection<1.0.0,>=0.0.1 in c:\\users\\mehdi\\anaconda3\\lib\\site-packages (from thinc<8.3.0,>=8.1.8->spacy<3.8.0,>=3.7.2->en-core-web-sm==3.7.1) (0.1.4)\n",
      "Requirement already satisfied: colorama in c:\\users\\mehdi\\anaconda3\\lib\\site-packages (from tqdm<5.0.0,>=4.38.0->spacy<3.8.0,>=3.7.2->en-core-web-sm==3.7.1) (0.4.6)\n",
      "Requirement already satisfied: click<9.0.0,>=7.1.1 in c:\\users\\mehdi\\anaconda3\\lib\\site-packages (from typer<0.10.0,>=0.3.0->spacy<3.8.0,>=3.7.2->en-core-web-sm==3.7.1) (8.0.4)\n",
      "Requirement already satisfied: cloudpathlib<0.17.0,>=0.7.0 in c:\\users\\mehdi\\anaconda3\\lib\\site-packages (from weasel<0.4.0,>=0.1.0->spacy<3.8.0,>=3.7.2->en-core-web-sm==3.7.1) (0.16.0)\n",
      "Requirement already satisfied: MarkupSafe>=2.0 in c:\\users\\mehdi\\anaconda3\\lib\\site-packages (from jinja2->spacy<3.8.0,>=3.7.2->en-core-web-sm==3.7.1) (2.1.1)\n",
      "Installing collected packages: en-core-web-sm\n",
      "Successfully installed en-core-web-sm-3.7.1\n",
      "\u001b[38;5;2m[+] Download and installation successful\u001b[0m\n",
      "You can now load the package via spacy.load('en_core_web_sm')\n"
     ]
    }
   ],
   "source": [
    "!python -m spacy download en_core_web_sm"
   ]
  },
  {
   "cell_type": "code",
   "execution_count": null,
   "id": "4548993c",
   "metadata": {},
   "outputs": [],
   "source": [
    "nlp = spacy.load(\"en_core_web_sm\")\n",
    "nlp"
   ]
  },
  {
   "cell_type": "markdown",
   "id": "4f70b146",
   "metadata": {},
   "source": [
    "# Custom NER for Cooking texts"
   ]
  },
  {
   "cell_type": "code",
   "execution_count": 2,
   "id": "b9113595",
   "metadata": {
    "tags": []
   },
   "outputs": [],
   "source": [
    "import json\n",
    "with open('TASTEset.json', 'r') as f:\n",
    "    data = json.load(f)"
   ]
  },
  {
   "cell_type": "code",
   "execution_count": 46,
   "id": "f46935cc",
   "metadata": {},
   "outputs": [
    {
     "data": {
      "text/plain": [
       "'5 ounces rum\\n4 ounces triple sec\\n3 ounces Tia Maria\\n20 ounces orange juice\\n'"
      ]
     },
     "execution_count": 46,
     "metadata": {},
     "output_type": "execute_result"
    }
   ],
   "source": [
    "data[0][0]\n"
   ]
  },
  {
   "cell_type": "code",
   "execution_count": 3,
   "id": "53652b99",
   "metadata": {
    "tags": []
   },
   "outputs": [
    {
     "data": {
      "text/plain": [
       "[62, 68, 'FOOD']"
      ]
     },
     "execution_count": 3,
     "metadata": {},
     "output_type": "execute_result"
    }
   ],
   "source": [
    "data[1][1][\"entities\"][8]"
   ]
  },
  {
   "cell_type": "code",
   "execution_count": 58,
   "id": "d0deacce",
   "metadata": {},
   "outputs": [
    {
     "data": {
      "text/plain": [
       "'UNIT'"
      ]
     },
     "execution_count": 58,
     "metadata": {},
     "output_type": "execute_result"
    }
   ],
   "source": [
    "data[1][1][\"entities\"][1][2]"
   ]
  },
  {
   "cell_type": "code",
   "execution_count": 4,
   "id": "097c1488",
   "metadata": {
    "tags": []
   },
   "outputs": [
    {
     "name": "stdout",
     "output_type": "stream",
     "text": [
      "{'text': '5 ounces rum\\n4 ounces triple sec\\n3 ounces Tia Maria\\n20 ounces orange juice\\n', 'entities': [(0, 1, 'QUANTITY'), (2, 8, 'UNIT'), (9, 12, 'FOOD'), (13, 14, 'QUANTITY'), (15, 21, 'UNIT'), (22, 32, 'FOOD'), (33, 34, 'QUANTITY'), (35, 41, 'UNIT'), (42, 51, 'FOOD'), (52, 54, 'QUANTITY'), (55, 61, 'UNIT'), (62, 74, 'FOOD')]}\n"
     ]
    }
   ],
   "source": [
    "# Initialiser une liste vide pour stocker les données d'entraînement\n",
    "training_data = []\n",
    "\n",
    "# Itérer sur chaque exemple dans les données fournies\n",
    "for example in data:\n",
    "    # Créer un dictionnaire temporaire pour contenir le texte et les entités de chaque exemple\n",
    "    temp_dict = {\n",
    "        'text': example[0],  # Stocker le texte de l'exemple\n",
    "        'entities': []  # Initialiser une liste vide pour stocker les entités\n",
    "    }\n",
    "\n",
    "    # Itérer sur chaque annotation dans l'exemple actuel\n",
    "    for annotation in example[1]['entities']:\n",
    "        # Extraire les positions de début et de fin de l'entité, ainsi que son libellé\n",
    "        start = annotation[0]\n",
    "        end = annotation[1]\n",
    "        label = annotation[2].upper()  # Convertir le libellé en majuscules\n",
    "\n",
    "        # Ajouter l'information de l'entité sous forme de tuple à la liste des entités\n",
    "        temp_dict['entities'].append((start, end, label))\n",
    "\n",
    "    # Ajouter le dictionnaire préparé à la liste des données d'entraînement\n",
    "    training_data.append(temp_dict)\n",
    "\n",
    "# Afficher la première entrée des données d'entraînement formatées pour vérifier la structure\n",
    "print(training_data[0])\n"
   ]
  },
  {
   "cell_type": "code",
   "execution_count": 5,
   "id": "0cbbae06",
   "metadata": {
    "tags": []
   },
   "outputs": [
    {
     "data": {
      "text/plain": [
       "'1 ounce Kahlua\\n1⁄2 ounce tequila\\n6 ounces hot coffee\\nwhipped cream\\n'"
      ]
     },
     "execution_count": 5,
     "metadata": {},
     "output_type": "execute_result"
    }
   ],
   "source": [
    "training_data[11]['text']"
   ]
  },
  {
   "cell_type": "code",
   "execution_count": 6,
   "id": "79748400",
   "metadata": {
    "tags": []
   },
   "outputs": [
    {
     "data": {
      "text/plain": [
       "[(0, 1, 'QUANTITY'),\n",
       " (2, 7, 'UNIT'),\n",
       " (8, 14, 'FOOD'),\n",
       " (15, 18, 'QUANTITY'),\n",
       " (19, 24, 'UNIT'),\n",
       " (25, 32, 'FOOD'),\n",
       " (33, 34, 'QUANTITY'),\n",
       " (35, 41, 'UNIT'),\n",
       " (42, 45, 'PHYSICAL_QUALITY'),\n",
       " (46, 52, 'FOOD'),\n",
       " (53, 60, 'PROCESS'),\n",
       " (61, 66, 'FOOD')]"
      ]
     },
     "execution_count": 6,
     "metadata": {},
     "output_type": "execute_result"
    }
   ],
   "source": [
    "training_data[11]['entities']"
   ]
  },
  {
   "cell_type": "code",
   "execution_count": 116,
   "id": "61fbe81f",
   "metadata": {},
   "outputs": [
    {
     "name": "stderr",
     "output_type": "stream",
     "text": [
      "100%|██████████| 700/700 [00:00<00:00, 1798.10it/s]\n"
     ]
    }
   ],
   "source": [
    "# Import necessary functions from spaCy\n",
    "from spacy.util import filter_spans\n",
    "from tqdm import tqdm\n",
    "\n",
    "# Initialize the spaCy model\n",
    "nlp = spacy.blank(\"en\") # Create a blank English model\n",
    "\n",
    "# Initialize the DocBin object for efficient storage of Doc objects\n",
    "doc_bin = DocBin()\n",
    "\n",
    "# Process each training example\n",
    "for training_example in tqdm(training_data):\n",
    "    # Extract text and entity labels from the training example\n",
    "    text = training_example['text']\n",
    "    labels = training_example['entities']\n",
    "\n",
    "    # Create a Doc object from the text without running the full pipeline\n",
    "    doc = nlp.make_doc(text)\n",
    "\n",
    "    # Initialize an empty list to store entity spans\n",
    "    ents = []\n",
    "\n",
    "    # Iterate over the entities in the training example\n",
    "    for start, end, label in labels:\n",
    "        # Create a span for each entity\n",
    "        span = doc.char_span(start, end, label=label, alignment_mode=\"contract\")\n",
    "\n",
    "        # If the span is valid, add it to the list of entities\n",
    "        if span is None:\n",
    "            print(\"Skipping entity\")\n",
    "        else:\n",
    "            ents.append(span)\n",
    "\n",
    "    # Filter overlapping spans to ensure each token is part of at most one entity\n",
    "    filtered_ents = filter_spans(ents)\n",
    "\n",
    "    # Assign the filtered entities to the document\n",
    "    doc.ents = filtered_ents\n",
    "\n",
    "    # Add the processed document to the DocBin\n",
    "    doc_bin.add(doc)\n",
    "\n",
    "# Save the DocBin with the processed documents to disk\n",
    "doc_bin.to_disk(\"train.spacy\")\n"
   ]
  },
  {
   "cell_type": "code",
   "execution_count": 117,
   "id": "44d6321a",
   "metadata": {},
   "outputs": [
    {
     "name": "stdout",
     "output_type": "stream",
     "text": [
      "\u001b[38;5;2m[+] Auto-filled config with all values\u001b[0m\n",
      "\u001b[38;5;2m[+] Saved config\u001b[0m\n",
      "config.cfg\n",
      "You can now add your data and train your pipeline:\n",
      "python -m spacy train config.cfg --paths.train ./train.spacy --paths.dev ./dev.spacy\n"
     ]
    }
   ],
   "source": [
    "!python -m spacy init fill-config base_config.cfg config.cfg"
   ]
  },
  {
   "cell_type": "code",
   "execution_count": 122,
   "id": "7195b91a",
   "metadata": {},
   "outputs": [],
   "source": [
    "import os\n",
    "os.environ['KMP_DUPLICATE_LIB_OK'] = 'TRUE'\n"
   ]
  },
  {
   "cell_type": "code",
   "execution_count": null,
   "id": "d6403c8f",
   "metadata": {},
   "outputs": [],
   "source": [
    "!conda install -c conda-forge libopenblas\n"
   ]
  },
  {
   "cell_type": "markdown",
   "id": "09286a46",
   "metadata": {},
   "source": [
    "En apprentissage automatique, max_epochs revient à décider combien de fois SpaCy lira le « livre d'histoires » (les données d'entraînement).\n",
    "Chaque « époque » est une lecture complète du livre de contes du début à la fin. Ainsi, max_epochs indique à SpaCy combien de fois lire toutes les données d'entraînement.\n",
    "\n",
    "Pour ce didacticiel, définissez la taille du lot sur 100 et max_epochs dans [training] sur 30. --- la valeur par défaut est 0 : une valeur par défaut de 0 signifie souvent que l'entraînement se poursuivra jusqu'à ce qu'une autre condition d'arrêt soit remplie. Ces conditions peuvent être des choses comme le fait de ne pas beaucoup mieux comprendre l'histoire (le modèle ne s'améliore pas), ou cela peut être basé sur d'autres paramètres ou critères."
   ]
  },
  {
   "cell_type": "code",
   "execution_count": null,
   "id": "98fecdb9",
   "metadata": {},
   "outputs": [],
   "source": [
    "!python -m spacy train config.cfg --paths.train ./train.spacy --paths.dev ./dev.spacy"
   ]
  },
  {
   "cell_type": "markdown",
   "id": "199363f3",
   "metadata": {},
   "source": [
    "**Interprétation des résultats de l'entraînement :**\n",
    "\n",
    "\n",
    "L'interprétation de la sortie d'un modèle personnalisé de reconnaissance d'entités nommées (NER) dans spaCy implique de comprendre diverses métriques et valeurs qui sont généralement affichées pendant le processus de formation. Décomposons chaque partie du résultat que vous avez fourni, qui semble provenir du journal d'entraînement :\n",
    "\n",
    "1. **E** : Cela signifie « Époque ». Une époque est un passage complet à travers l’ensemble des données d’entraînement. Si vous voyez « E 5 », cela signifie que SpaCy en est à son 5ème cycle de lecture de tous ses livres (données d'entraînement).\n",
    "\n",
    "2. **#** : Il s'agit du numéro de lot. À chaque époque, les données d'entraînement sont divisées en ensembles plus petits ou « lots ». Ce numéro indique de quel lot SpaCy apprend actuellement à l'époque.\n",
    "\n",
    "3. **LOSS TOK2VEC** : Il s'agit de la perte d'entraînement pour le composant \"tok2vec\" du modèle. La perte mesure la capacité de SpaCy à comprendre les mots de son lot actuel. Une perte inférieure signifie que tout va mieux. S'il est trop élevé, SpaCy pourrait avoir des problèmes.\n",
    "\n",
    "4. **PERTE NER** : Il s'agit de la perte d'entraînement spécifiquement pour la partie NER. Il vous indique dans quelle mesure SpaCy réussit à trouver et à comprendre les noms ou choses (entités) spéciaux dans le texte. Comme avec tok2vec, un nombre inférieur est préférable.\n",
    "\n",
    "5. **ENTS_F** : Il s'agit du score F pour la reconnaissance d'entité. C'est un nombre compris entre 0 et 1 qui mesure la précision de SpaCy pour trouver les bonnes entités. C'est un mélange de précision et de rappel (qui sont expliqués ci-dessous). Plus proche de 1 signifie que SpaCy est vraiment bon dans ce domaine !\n",
    "\n",
    "6. **ENTS_P** : Il s'agit du score de précision des entités. Il vous indique quel pourcentage des entités trouvées par SpaCy étaient réellement correctes. Si SpaCy est trop impatient et marque trop de choses comme entités, ce nombre pourrait diminuer.\n",
    "\n",
    "7. **ENTS_R** : Il s'agit du score de rappel des entités. Il mesure le pourcentage d'entités réelles dans le texte que SpaCy a réussi à trouver. Si SpaCy est trop prudent et manque certaines entités, ce nombre pourrait être faible.\n",
    "\n",
    "8. **SCORE** : Il s'agit généralement du score global du modèle, souvent basé sur le score F. Cela vous donne une idée rapide des performances du modèle. Plus haut, c'est mieux.\n",
    "\n",
    "Lorsque vous entraînez SpaCy, vous voulez voir le LOSS TOK2VEC et le LOSS NER diminuer au fil du temps à mesure qu'il apprend. Dans le même temps, vous souhaitez que ENTS_F, ENTS_P et ENTS_R augmentent, montrant que SpaCy s'améliore dans la recherche et la compréhension des bonnes entités dans le texte. C'est comme regarder SpaCy devenir plus intelligent et meilleur dans sa lecture à chaque époque et à chaque lot !\n"
   ]
  },
  {
   "cell_type": "code",
   "execution_count": 14,
   "id": "bcd2e9c3-40cd-441f-912c-10027723696e",
   "metadata": {
    "tags": []
   },
   "outputs": [
    {
     "ename": "NameError",
     "evalue": "name 'DocBin' is not defined",
     "output_type": "error",
     "traceback": [
      "\u001b[1;31m---------------------------------------------------------------------------\u001b[0m",
      "\u001b[1;31mNameError\u001b[0m                                 Traceback (most recent call last)",
      "Cell \u001b[1;32mIn[14], line 9\u001b[0m\n\u001b[0;32m      6\u001b[0m nlp \u001b[38;5;241m=\u001b[39m spacy\u001b[38;5;241m.\u001b[39mblank(\u001b[38;5;124m\"\u001b[39m\u001b[38;5;124men\u001b[39m\u001b[38;5;124m\"\u001b[39m) \u001b[38;5;66;03m# Create a blank English model\u001b[39;00m\n\u001b[0;32m      8\u001b[0m \u001b[38;5;66;03m# Initialize the DocBin object for efficient storage of Doc objects\u001b[39;00m\n\u001b[1;32m----> 9\u001b[0m doc_bin \u001b[38;5;241m=\u001b[39m DocBin()\n",
      "\u001b[1;31mNameError\u001b[0m: name 'DocBin' is not defined"
     ]
    }
   ],
   "source": [
    "# Import necessary functions from spaCy\n",
    "from spacy.util import filter_spans\n",
    "from tqdm import tqdm\n",
    "\n",
    "# Initialize the spaCy model\n",
    "nlp = spacy.blank(\"en\") # Create a blank English model\n",
    "\n",
    "# Initialize the DocBin object for efficient storage of Doc objects\n",
    "doc_bin = DocBin()\n"
   ]
  },
  {
   "cell_type": "code",
   "execution_count": 11,
   "id": "97ab5e10-2efe-4458-aa4b-8e09293c2764",
   "metadata": {
    "tags": []
   },
   "outputs": [],
   "source": [
    "import spacy\n",
    "nlp_ner = spacy.load(\"model-best\")"
   ]
  },
  {
   "cell_type": "code",
   "execution_count": 7,
   "id": "a6bc62f8",
   "metadata": {
    "tags": []
   },
   "outputs": [
    {
     "data": {
      "text/plain": [
       "[(0, 1, 'QUANTITY'),\n",
       " (2, 7, 'UNIT'),\n",
       " (8, 14, 'FOOD'),\n",
       " (15, 18, 'QUANTITY'),\n",
       " (19, 24, 'UNIT'),\n",
       " (25, 32, 'FOOD'),\n",
       " (33, 34, 'QUANTITY'),\n",
       " (35, 41, 'UNIT'),\n",
       " (42, 45, 'PHYSICAL_QUALITY'),\n",
       " (46, 52, 'FOOD'),\n",
       " (53, 60, 'PROCESS'),\n",
       " (61, 66, 'FOOD')]"
      ]
     },
     "execution_count": 7,
     "metadata": {},
     "output_type": "execute_result"
    }
   ],
   "source": []
  },
  {
   "cell_type": "code",
   "execution_count": 26,
   "id": "88c5fcde-2080-443e-af76-d34a3ac5fcd6",
   "metadata": {
    "tags": []
   },
   "outputs": [],
   "source": [
    "# Intitalize the colours for the NER\n",
    "\n",
    "colors = {\n",
    "    \"FOOD\": \"#F67DE3\",\n",
    "    \"QUANTITY\": \"#7DF6D9\",\n",
    "    \"PHYSICAL_QUALITY\": \"#a6e22d\",\n",
    "    \"UNIT\": \"#6D7DF6\",\n",
    "    \"PROCESS\": \"#F6807D\"\n",
    "}\n",
    "options = {\"colors\": colors}"
   ]
  },
  {
   "cell_type": "code",
   "execution_count": 27,
   "id": "7cd551da-152e-4e23-a3c5-1b9a0861ddc9",
   "metadata": {
    "tags": []
   },
   "outputs": [
    {
     "data": {
      "text/html": [
       "<span class=\"tex2jax_ignore\"><div class=\"entities\" style=\"line-height: 2.5; direction: ltr\">In the world of culinary arts, the quest for the perfect balance of quantity and quality is an eternal pursuit. Whether it's a hearty stew simmering on a \n",
       "<mark class=\"entity\" style=\"background: #a6e22d; padding: 0.45em 0.6em; margin: 0 0.25em; line-height: 1; border-radius: 0.35em;\">\n",
       "    cold\n",
       "    <span style=\"font-size: 0.8em; font-weight: bold; line-height: 1; border-radius: 0.35em; vertical-align: middle; margin-left: 0.5rem\">PHYSICAL_QUALITY</span>\n",
       "</mark>\n",
       " winter's day or \n",
       "<mark class=\"entity\" style=\"background: #F67DE3; padding: 0.45em 0.6em; margin: 0 0.25em; line-height: 1; border-radius: 0.35em;\">\n",
       "    a delicate dessert\n",
       "    <span style=\"font-size: 0.8em; font-weight: bold; line-height: 1; border-radius: 0.35em; vertical-align: middle; margin-left: 0.5rem\">FOOD</span>\n",
       "</mark>\n",
       " \n",
       "<mark class=\"entity\" style=\"background: #F6807D; padding: 0.45em 0.6em; margin: 0 0.25em; line-height: 1; border-radius: 0.35em;\">\n",
       "    adorned with intricate decorations\n",
       "    <span style=\"font-size: 0.8em; font-weight: bold; line-height: 1; border-radius: 0.35em; vertical-align: middle; margin-left: 0.5rem\">PROCESS</span>\n",
       "</mark>\n",
       ", chefs aim to strike the ideal harmony between the amount of ingredients used and the exceptional quality of the final dish. The essence of culinary excellence lies not only in the flavors and textures but also in the presentation and aesthetics. Every bite should be a delightful experience, a symphony of taste and texture that tantalizes the senses and leaves a lasting impression.</div></span>"
      ],
      "text/plain": [
       "<IPython.core.display.HTML object>"
      ]
     },
     "metadata": {},
     "output_type": "display_data"
    }
   ],
   "source": [
    "doc = nlp_ner(\"In the world of culinary arts, the quest for the perfect balance of quantity and quality is an eternal pursuit. Whether it's a hearty stew simmering on a cold winter's day or a delicate dessert adorned with intricate decorations, chefs aim to strike the ideal harmony between the amount of ingredients used and the exceptional quality of the final dish. The essence of culinary excellence lies not only in the flavors and textures but also in the presentation and aesthetics. Every bite should be a delightful experience, a symphony of taste and texture that tantalizes the senses and leaves a lasting impression.\")\n",
    "\n",
    "spacy.displacy.render(doc, style=\"ent\", options= options, jupyter=True)"
   ]
  },
  {
   "cell_type": "code",
   "execution_count": 28,
   "id": "c027f4e7-1243-4a8f-835d-d95cc9bcf303",
   "metadata": {
    "tags": []
   },
   "outputs": [
    {
     "data": {
      "text/html": [
       "<span class=\"tex2jax_ignore\"><div class=\"entities\" style=\"line-height: 2.5; direction: ltr\">As the sun sets on a \n",
       "<mark class=\"entity\" style=\"background: #a6e22d; padding: 0.45em 0.6em; margin: 0 0.25em; line-height: 1; border-radius: 0.35em;\">\n",
       "    warm\n",
       "    <span style=\"font-size: 0.8em; font-weight: bold; line-height: 1; border-radius: 0.35em; vertical-align: middle; margin-left: 0.5rem\">PHYSICAL_QUALITY</span>\n",
       "</mark>\n",
       " summer evening, the aroma of \n",
       "<mark class=\"entity\" style=\"background: #F6807D; padding: 0.45em 0.6em; margin: 0 0.25em; line-height: 1; border-radius: 0.35em;\">\n",
       "    freshly grilled\n",
       "    <span style=\"font-size: 0.8em; font-weight: bold; line-height: 1; border-radius: 0.35em; vertical-align: middle; margin-left: 0.5rem\">PROCESS</span>\n",
       "</mark>\n",
       " \n",
       "<mark class=\"entity\" style=\"background: #F67DE3; padding: 0.45em 0.6em; margin: 0 0.25em; line-height: 1; border-radius: 0.35em;\">\n",
       "    food fills the air\n",
       "    <span style=\"font-size: 0.8em; font-weight: bold; line-height: 1; border-radius: 0.35em; vertical-align: middle; margin-left: 0.5rem\">FOOD</span>\n",
       "</mark>\n",
       ", enticing everyone with its irresistible allure. Whether it's \n",
       "<mark class=\"entity\" style=\"background: #F67DE3; padding: 0.45em 0.6em; margin: 0 0.25em; line-height: 1; border-radius: 0.35em;\">\n",
       "    succulent steaks sizzling on the barbecue\n",
       "    <span style=\"font-size: 0.8em; font-weight: bold; line-height: 1; border-radius: 0.35em; vertical-align: middle; margin-left: 0.5rem\">FOOD</span>\n",
       "</mark>\n",
       " or colorful vegetables charred \n",
       "<mark class=\"entity\" style=\"background: #ddd; padding: 0.45em 0.6em; margin: 0 0.25em; line-height: 1; border-radius: 0.35em;\">\n",
       "    to perfection\n",
       "    <span style=\"font-size: 0.8em; font-weight: bold; line-height: 1; border-radius: 0.35em; vertical-align: middle; margin-left: 0.5rem\">PURPOSE</span>\n",
       "</mark>\n",
       ", the joy of outdoor cooking lies in the process of creating memorable meals that bring people together.</div></span>"
      ],
      "text/plain": [
       "<IPython.core.display.HTML object>"
      ]
     },
     "metadata": {},
     "output_type": "display_data"
    }
   ],
   "source": [
    "doc = nlp_ner(\"As the sun sets on a warm summer evening, the aroma of freshly grilled food fills the air, enticing everyone with its irresistible allure. Whether it's succulent steaks sizzling on the barbecue or colorful vegetables charred to perfection, the joy of outdoor cooking lies in the process of creating memorable meals that bring people together.\")\n",
    "spacy.displacy.render(doc, style=\"ent\", options= options, jupyter=True)"
   ]
  }
 ],
 "metadata": {
  "kernelspec": {
   "display_name": "Python 3 (ipykernel)",
   "language": "python",
   "name": "python3"
  },
  "language_info": {
   "codemirror_mode": {
    "name": "ipython",
    "version": 3
   },
   "file_extension": ".py",
   "mimetype": "text/x-python",
   "name": "python",
   "nbconvert_exporter": "python",
   "pygments_lexer": "ipython3",
   "version": "3.11.5"
  }
 },
 "nbformat": 4,
 "nbformat_minor": 5
}
